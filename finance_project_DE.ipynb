{
 "cells": [
  {
   "cell_type": "markdown",
   "id": "e23fdb26",
   "metadata": {},
   "source": [
    "# 📊 Finanzdatenanalyse und Maschinelles Lernen Projekt"
   ]
  },
  {
   "cell_type": "markdown",
   "id": "bb1ad71c",
   "metadata": {},
   "source": [
    "## 1. Ziel\n",
    "In diesem Projekt wollen wir:\n",
    "- Faktoren analysieren, die den Immobilienpreis beeinflussen\n",
    "- Ein Vorhersagemodell für Immobilienpreise mit maschinellem Lernen erstellen\n",
    "- Die Modellleistung mit R², MSE und RMSE bewerten"
   ]
  },
  {
   "cell_type": "code",
   "execution_count": null,
   "id": "4ef40040",
   "metadata": {},
   "outputs": [],
   "source": [
    "\n",
    "import pandas as pd\n",
    "import numpy as np\n",
    "import seaborn as sns\n",
    "import matplotlib.pyplot as plt\n",
    "\n",
    "from sklearn.linear_model import LinearRegression, Ridge\n",
    "from sklearn.preprocessing import StandardScaler, PolynomialFeatures\n",
    "from sklearn.model_selection import train_test_split\n",
    "from sklearn.pipeline import Pipeline\n",
    "from sklearn.metrics import mean_squared_error\n"
   ]
  },
  {
   "cell_type": "code",
   "execution_count": null,
   "id": "68746709",
   "metadata": {},
   "outputs": [],
   "source": [
    "\n",
    "# Datensatz laden (z.B. finance_data.csv)\n",
    "df = pd.read_csv(\"finance_data.csv\")\n",
    "\n",
    "# Spaltentypen\n",
    "df.dtypes\n"
   ]
  },
  {
   "cell_type": "code",
   "execution_count": null,
   "id": "d5ef7835",
   "metadata": {},
   "outputs": [],
   "source": [
    "df.describe()"
   ]
  },
  {
   "cell_type": "code",
   "execution_count": null,
   "id": "854debdb",
   "metadata": {},
   "outputs": [],
   "source": [
    "\n",
    "df.drop([\"id\", \"Unnamed: 0\"], axis=1, inplace=True)\n",
    "df.describe()\n"
   ]
  },
  {
   "cell_type": "code",
   "execution_count": null,
   "id": "5a15184f",
   "metadata": {},
   "outputs": [],
   "source": [
    "\n",
    "floor_counts = df[\"floor\"].value_counts().to_frame()\n",
    "floor_counts\n"
   ]
  },
  {
   "cell_type": "code",
   "execution_count": null,
   "id": "7db202ac",
   "metadata": {},
   "outputs": [],
   "source": [
    "\n",
    "plt.figure(figsize=(8,6))\n",
    "sns.boxplot(x=\"waterfront\", y=\"price\", data=df)\n",
    "plt.title(\"Preisverteilung nach Waterfront-Status\")\n",
    "plt.show()\n"
   ]
  },
  {
   "cell_type": "code",
   "execution_count": null,
   "id": "2bd37c4d",
   "metadata": {},
   "outputs": [],
   "source": [
    "\n",
    "plt.figure(figsize=(8,6))\n",
    "sns.regplot(x=\"sqft_above\", y=\"price\", data=df, line_kws={\"color\":\"red\"})\n",
    "plt.title(\"Beziehung zwischen sqft_above und Preis\")\n",
    "plt.show()\n"
   ]
  },
  {
   "cell_type": "code",
   "execution_count": null,
   "id": "0f0d9a83",
   "metadata": {},
   "outputs": [],
   "source": [
    "\n",
    "X = df[['sqft_living']]\n",
    "y = df['price']\n",
    "\n",
    "lm = LinearRegression()\n",
    "lm.fit(X, y)\n",
    "r2 = lm.score(X, y)\n",
    "print(\"R^2 Wert:\", r2)\n"
   ]
  },
  {
   "cell_type": "code",
   "execution_count": null,
   "id": "5c640451",
   "metadata": {},
   "outputs": [],
   "source": [
    "\n",
    "y_pred = lm.predict(X)\n",
    "mse = mean_squared_error(y, y_pred)\n",
    "rmse = np.sqrt(mse)\n",
    "\n",
    "print(\"MSE:\", mse)\n",
    "print(\"RMSE:\", rmse)\n"
   ]
  },
  {
   "cell_type": "code",
   "execution_count": null,
   "id": "83361499",
   "metadata": {},
   "outputs": [],
   "source": [
    "\n",
    "features = [\"sqft_living\", \"bedrooms\", \"bathrooms\", \"floors\", \"grade\"]\n",
    "X = df[features]\n",
    "y = df[\"price\"]\n",
    "\n",
    "pipe = Pipeline([\n",
    "    (\"scale\", StandardScaler()),\n",
    "    (\"model\", LinearRegression())\n",
    "])\n",
    "\n",
    "pipe.fit(X, y)\n",
    "print(\"Pipeline R^2:\", pipe.score(X, y))\n"
   ]
  },
  {
   "cell_type": "code",
   "execution_count": null,
   "id": "8fb6dd66",
   "metadata": {},
   "outputs": [],
   "source": [
    "\n",
    "X_train, X_test, y_train, y_test = train_test_split(X, y, test_size=0.2, random_state=42)\n",
    "\n",
    "ridge_model = Ridge(alpha=0.1)\n",
    "ridge_model.fit(X_train, y_train)\n",
    "print(\"Ridge Test R^2:\", ridge_model.score(X_test, y_test))\n"
   ]
  },
  {
   "cell_type": "code",
   "execution_count": null,
   "id": "e93650db",
   "metadata": {},
   "outputs": [],
   "source": [
    "\n",
    "poly = PolynomialFeatures(degree=2)\n",
    "X_train_poly = poly.fit_transform(X_train)\n",
    "X_test_poly = poly.transform(X_test)\n",
    "\n",
    "ridge_poly = Ridge(alpha=0.1)\n",
    "ridge_poly.fit(X_train_poly, y_train)\n",
    "print(\"Polynomial Ridge Regression Test R^2:\", ridge_poly.score(X_test_poly, y_test))\n"
   ]
  },
  {
   "cell_type": "markdown",
   "id": "e53a742d",
   "metadata": {},
   "source": [
    "\n",
    "## 2. Zusammenfassung\n",
    "- Wir haben die Daten untersucht und vorverarbeitet (unnötige Spalten, statistische Übersicht)\n",
    "- Mit Visualisierungen die Zusammenhänge analysiert (Boxplot, Regplot)\n",
    "- Eine einfache und multiple lineare Regression erstellt\n",
    "- Mit Ridge Regression und Polynomial Ridge Regression robustere Modelle aufgebaut\n",
    "- Die Modellleistung mit R², MSE und RMSE bewertet\n"
   ]
  }
 ],
 "metadata": {},
 "nbformat": 4,
 "nbformat_minor": 5
}
